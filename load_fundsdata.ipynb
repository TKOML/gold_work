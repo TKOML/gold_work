{
 "cells": [
  {
   "cell_type": "code",
   "execution_count": 3,
   "metadata": {},
   "outputs": [],
   "source": [
    "import jqdatasdk as jq\n",
    "import pandas as pd\n",
    "import numpy as np"
   ]
  },
  {
   "cell_type": "code",
   "execution_count": null,
   "metadata": {},
   "outputs": [],
   "source": [
    "jq.auth('18436106390','MDLmyf123.') "
   ]
  },
  {
   "cell_type": "code",
   "execution_count": null,
   "metadata": {},
   "outputs": [],
   "source": [
    "jq.get_query_count()"
   ]
  },
  {
   "cell_type": "markdown",
   "metadata": {},
   "source": [
    "## 读取Fund Main表"
   ]
  },
  {
   "cell_type": "code",
   "execution_count": null,
   "metadata": {},
   "outputs": [],
   "source": [
    "fund_main = jq.finance.run_query(jq.query(jq.finance.FUND_MAIN_INFO))"
   ]
  },
  {
   "cell_type": "code",
   "execution_count": null,
   "metadata": {},
   "outputs": [],
   "source": [
    "fund_main.info()"
   ]
  },
  {
   "cell_type": "code",
   "execution_count": null,
   "metadata": {},
   "outputs": [],
   "source": [
    "fund_main['start_date']= pd.to_datetime(fund_main['start_date'])\n",
    "fund_main['end_date']= pd.to_datetime(fund_main['end_date'])"
   ]
  },
  {
   "cell_type": "code",
   "execution_count": null,
   "metadata": {},
   "outputs": [],
   "source": [
    "fund_main = fund_main.drop(['id','statistics_main_code','invest_style_id','invest_style'],axis=1)"
   ]
  },
  {
   "cell_type": "code",
   "execution_count": null,
   "metadata": {},
   "outputs": [],
   "source": [
    "fund_main.info()"
   ]
  },
  {
   "cell_type": "code",
   "execution_count": null,
   "metadata": {},
   "outputs": [],
   "source": [
    "import sqlite3\n",
    "\n",
    "conn = sqlite3.connect('db.sqlite3')"
   ]
  },
  {
   "cell_type": "code",
   "execution_count": null,
   "metadata": {
    "collapsed": true,
    "jupyter": {
     "outputs_hidden": true
    }
   },
   "outputs": [],
   "source": [
    "fund_main"
   ]
  },
  {
   "cell_type": "code",
   "execution_count": null,
   "metadata": {},
   "outputs": [],
   "source": [
    "sql = \"delete from funds_fundmain\"\n",
    "conn.execute(sql)"
   ]
  },
  {
   "cell_type": "code",
   "execution_count": null,
   "metadata": {},
   "outputs": [],
   "source": [
    "conn.commit()"
   ]
  },
  {
   "cell_type": "code",
   "execution_count": null,
   "metadata": {},
   "outputs": [],
   "source": [
    "fund_main.to_sql('funds_fundmain',conn,if_exists='append',index=False)"
   ]
  },
  {
   "cell_type": "markdown",
   "metadata": {},
   "source": [
    "## 读取基金净值数据\n",
    "\n",
    "读取前100个基金的数据"
   ]
  },
  {
   "cell_type": "code",
   "execution_count": null,
   "metadata": {},
   "outputs": [],
   "source": [
    "fund_main.main_code[:100]"
   ]
  },
  {
   "cell_type": "markdown",
   "metadata": {},
   "source": [
    "读取净值数据"
   ]
  },
  {
   "cell_type": "code",
   "execution_count": null,
   "metadata": {},
   "outputs": [],
   "source": [
    "fund_net_value = jq.finance.run_query(jq.query(jq.finance.FUND_NET_VALUE).filter(jq.finance.FUND_NET_VALUE.code==fund_main.main_code[0],jq.finance.FUND_NET_VALUE.day>'2010-01-01'))"
   ]
  },
  {
   "cell_type": "code",
   "execution_count": null,
   "metadata": {},
   "outputs": [],
   "source": [
    "fund_net_value.info()"
   ]
  },
  {
   "cell_type": "code",
   "execution_count": null,
   "metadata": {},
   "outputs": [],
   "source": [
    "conn.execute('delete from funds_fundsnetvalue')"
   ]
  },
  {
   "cell_type": "code",
   "execution_count": null,
   "metadata": {},
   "outputs": [],
   "source": [
    "conn.commit()"
   ]
  },
  {
   "cell_type": "code",
   "execution_count": null,
   "metadata": {},
   "outputs": [],
   "source": [
    "for fund_id in fund_main.main_code[:100]:\n",
    "    #读取数据\n",
    "    fund_netvalue = jq.finance.run_query(jq.query(jq.finance.FUND_NET_VALUE).\n",
    "                     filter(jq.finance.FUND_NET_VALUE.code==fund_id,jq.finance.FUND_NET_VALUE.day>='2010-01-01'))\n",
    "    #修改字段名\n",
    "    fund_netvalue['code_id'] = fund_netvalue['code']\n",
    "    #删除id和code \n",
    "    fund_netvalue = fund_netvalue.drop(['id','code'],axis=1)\n",
    "    #day字段转换日期格式\n",
    "    fund_netvalue['day']= pd.to_datetime(fund_netvalue['day'])\n",
    "    #计算日收益率\n",
    "    fund_netvalue['daily_return'] = np.log(fund_netvalue['sum_value']/fund_netvalue['sum_value'].shift(1))*100\n",
    "    #计算月收益率\n",
    "    fund_netvalue['month_return'] = np.log(fund_netvalue['sum_value']/fund_netvalue['sum_value'].shift(22))*100\n",
    "    #计算季度收益率\n",
    "    fund_netvalue['quarter_return'] = np.log(fund_netvalue['sum_value']/fund_netvalue['sum_value'].shift(64))*100\n",
    "    #计算累计收益率\n",
    "    fund_netvalue['total_return'] = np.log(fund_netvalue['sum_value']/fund_netvalue['sum_value'][0])*100\n",
    "    #保存\n",
    "    fund_netvalue.to_sql('funds_fundsnetvalue',conn, if_exists='append',index=False)\n"
   ]
  },
  {
   "cell_type": "code",
   "execution_count": null,
   "metadata": {},
   "outputs": [],
   "source": [
    "sql = \"select * from funds_fundsnetvalue where day='2021-11-11'\"\n",
    "myfunds = conn.execute(sql)"
   ]
  },
  {
   "cell_type": "code",
   "execution_count": null,
   "metadata": {},
   "outputs": [],
   "source": [
    "values = myfunds.fetchall()"
   ]
  },
  {
   "cell_type": "code",
   "execution_count": null,
   "metadata": {},
   "outputs": [],
   "source": [
    "sql = \"select fund.name, fund.main_code, netvalue.day,netvalue.net_value,netvalue.sum_value,netvalue.daily_return,netvalue.month_return, netvalue.quarter_return,netvalue.total_return from funds_fundmain as fund, funds_fundsnetvalue as netvalue where fund.main_code == netvalue.code_id and netvalue.day ='2021-11-11 00:00:00'\""
   ]
  },
  {
   "cell_type": "code",
   "execution_count": null,
   "metadata": {},
   "outputs": [],
   "source": [
    "fundslist = pd.read_sql(sql,conn)"
   ]
  },
  {
   "cell_type": "code",
   "execution_count": null,
   "metadata": {},
   "outputs": [],
   "source": [
    "fundslist"
   ]
  },
  {
   "cell_type": "code",
   "execution_count": null,
   "metadata": {},
   "outputs": [],
   "source": [
    "sql2 = \"select fund.name, netvalue.day,netvalue.net_value,netvalue.sum_value,netvalue.daily_return,netvalue.month_return, netvalue.quarter_return,netvalue.total_return from funds_fundmain as fund, funds_fundsnetvalue as netvalue where fund.main_code == netvalue.code_id and fund.main_code ='000001'\"\n",
    "\n",
    "fundslist = pd.read_sql(sql2,conn)\n",
    "\n",
    "fundslist"
   ]
  },
  {
   "cell_type": "markdown",
   "metadata": {},
   "source": [
    "在推荐表中插入数据\n",
    "\n",
    "1. 泰和混合，长跑冠军 精选优质企业 +161.76% 近五年涨幅\n",
    "2. 新能源， 产业动力 新能源先锋掌舵 +347.38% 近五年涨幅\n",
    "3. 沪深300， 投资A股核心代表性指数 +50.22% 近五年涨幅\n",
    "4. 稳固收益，固收打底 权益增强 +38.18% 近五年涨幅"
   ]
  },
  {
   "cell_type": "code",
   "execution_count": null,
   "metadata": {},
   "outputs": [],
   "source": [
    "recomm = pd.DataFrame([['000595','泰和混合','长跑冠军 精选优质企业',161.76],\n",
    "                       ['003984','新能源','产业动力 新能源先锋掌舵',347.38],\n",
    "                       ['160706','沪深300','投资A股核心代表性指数',50.22],\n",
    "                       ['070020','稳固收益','固收打底 权益增强',38.18]],columns=['code','name','comment','total_return'])"
   ]
  },
  {
   "cell_type": "code",
   "execution_count": null,
   "metadata": {},
   "outputs": [],
   "source": [
    "recomm"
   ]
  },
  {
   "cell_type": "code",
   "execution_count": null,
   "metadata": {},
   "outputs": [],
   "source": [
    "recomm.to_sql('funds_recommendfunds',conn,if_exists='append',index=False)"
   ]
  }
 ],
 "metadata": {
  "kernelspec": {
   "display_name": ".venv",
   "language": "python",
   "name": "python3"
  },
  "language_info": {
   "codemirror_mode": {
    "name": "ipython",
    "version": 3
   },
   "file_extension": ".py",
   "mimetype": "text/x-python",
   "name": "python",
   "nbconvert_exporter": "python",
   "pygments_lexer": "ipython3",
   "version": "3.13.0"
  }
 },
 "nbformat": 4,
 "nbformat_minor": 4
}
